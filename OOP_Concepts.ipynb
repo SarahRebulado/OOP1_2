{
  "nbformat": 4,
  "nbformat_minor": 0,
  "metadata": {
    "colab": {
      "name": "OOP Concepts.ipynb",
      "provenance": [],
      "authorship_tag": "ABX9TyP2aXdixZn8MutbvX8Vi7G1",
      "include_colab_link": true
    },
    "kernelspec": {
      "name": "python3",
      "display_name": "Python 3"
    },
    "language_info": {
      "name": "python"
    }
  },
  "cells": [
    {
      "cell_type": "markdown",
      "metadata": {
        "id": "view-in-github",
        "colab_type": "text"
      },
      "source": [
        "<a href=\"https://colab.research.google.com/github/SarahRebulado/OOP1_2/blob/main/OOP_Concepts.ipynb\" target=\"_parent\"><img src=\"https://colab.research.google.com/assets/colab-badge.svg\" alt=\"Open In Colab\"/></a>"
      ]
    },
    {
      "cell_type": "markdown",
      "source": [
        "#Python Classes and Objects"
      ],
      "metadata": {
        "id": "LcgGY-Aihiep"
      }
    },
    {
      "cell_type": "markdown",
      "source": [
        "Create a Class\n"
      ],
      "metadata": {
        "id": "t1tMREN-hr9f"
      }
    },
    {
      "cell_type": "code",
      "execution_count": 1,
      "metadata": {
        "id": "y3nAgm8yhevT"
      },
      "outputs": [],
      "source": [
        "class MyClass:\n",
        "  pass"
      ]
    },
    {
      "cell_type": "code",
      "source": [
        "class OOP1_2:\n",
        "  x=5\n",
        "  print(x)"
      ],
      "metadata": {
        "colab": {
          "base_uri": "https://localhost:8080/"
        },
        "id": "D7BnN34jhx1O",
        "outputId": "76a5016f-5194-4835-8a4b-29dfa89606fe"
      },
      "execution_count": 2,
      "outputs": [
        {
          "output_type": "stream",
          "name": "stdout",
          "text": [
            "5\n"
          ]
        }
      ]
    },
    {
      "cell_type": "markdown",
      "source": [
        "Create Objects"
      ],
      "metadata": {
        "id": "opmpAC0Ehz6f"
      }
    },
    {
      "cell_type": "code",
      "source": [
        "class OOP1_2:\n",
        "  def __init__(self,name,age):  #__init__(parameter)\n",
        "    self.name=name      #attributes\n",
        "    self.age=age\n",
        "\n",
        "  def identity(self):\n",
        "    print(self.name,self.age)\n",
        "\n",
        "person=OOP1_2(\"Maria\", \"39\")  #create objects\n",
        "\n",
        "print(person.name)\n",
        "print(person.age)\n",
        "print(person.identity)"
      ],
      "metadata": {
        "colab": {
          "base_uri": "https://localhost:8080/"
        },
        "id": "PDtZSdIJh58D",
        "outputId": "d1e19cf0-0825-41fb-d75d-ff910858e5b0"
      },
      "execution_count": 3,
      "outputs": [
        {
          "output_type": "stream",
          "name": "stdout",
          "text": [
            "Maria\n",
            "39\n",
            "<bound method OOP1_2.identity of <__main__.OOP1_2 object at 0x7f4a0ffc0790>>\n"
          ]
        }
      ]
    },
    {
      "cell_type": "code",
      "source": [
        "#Modify the Object Name\n",
        "\n",
        "person.name=\"Rizette\"\n",
        "print(person.name)\n",
        "print(person.age)\n"
      ],
      "metadata": {
        "colab": {
          "base_uri": "https://localhost:8080/"
        },
        "id": "3b4gZ9ZEh-v6",
        "outputId": "5f3b0c91-6ae4-4517-c7a5-45b843152fdc"
      },
      "execution_count": 4,
      "outputs": [
        {
          "output_type": "stream",
          "name": "stdout",
          "text": [
            "Rizette\n",
            "39\n"
          ]
        }
      ]
    },
    {
      "cell_type": "code",
      "source": [
        "person.age=40\n",
        "print(person.name)\n",
        "print(person.age)"
      ],
      "metadata": {
        "colab": {
          "base_uri": "https://localhost:8080/"
        },
        "id": "mxbj83lkiD_A",
        "outputId": "9e790f07-01da-4c39-c728-3e5712da2830"
      },
      "execution_count": 5,
      "outputs": [
        {
          "output_type": "stream",
          "name": "stdout",
          "text": [
            "Rizette\n",
            "40\n"
          ]
        }
      ]
    },
    {
      "cell_type": "code",
      "source": [
        "#Delete the object\n",
        "del person.name"
      ],
      "metadata": {
        "id": "b-EBxD_MiFWs"
      },
      "execution_count": 6,
      "outputs": []
    },
    {
      "cell_type": "code",
      "source": [
        "print(person.name)\n",
        "print(person.age)"
      ],
      "metadata": {
        "colab": {
          "base_uri": "https://localhost:8080/",
          "height": 182
        },
        "id": "wZsLMdxjiJwC",
        "outputId": "0d0f6c81-bb2a-4d8a-f4ed-608b815f7289"
      },
      "execution_count": 7,
      "outputs": [
        {
          "output_type": "error",
          "ename": "AttributeError",
          "evalue": "ignored",
          "traceback": [
            "\u001b[0;31m---------------------------------------------------------------------------\u001b[0m",
            "\u001b[0;31mAttributeError\u001b[0m                            Traceback (most recent call last)",
            "\u001b[0;32m<ipython-input-7-0be790b71ed1>\u001b[0m in \u001b[0;36m<module>\u001b[0;34m()\u001b[0m\n\u001b[0;32m----> 1\u001b[0;31m \u001b[0mprint\u001b[0m\u001b[0;34m(\u001b[0m\u001b[0mperson\u001b[0m\u001b[0;34m.\u001b[0m\u001b[0mname\u001b[0m\u001b[0;34m)\u001b[0m\u001b[0;34m\u001b[0m\u001b[0;34m\u001b[0m\u001b[0m\n\u001b[0m\u001b[1;32m      2\u001b[0m \u001b[0mprint\u001b[0m\u001b[0;34m(\u001b[0m\u001b[0mperson\u001b[0m\u001b[0;34m.\u001b[0m\u001b[0mage\u001b[0m\u001b[0;34m)\u001b[0m\u001b[0;34m\u001b[0m\u001b[0;34m\u001b[0m\u001b[0m\n",
            "\u001b[0;31mAttributeError\u001b[0m: 'OOP1_2' object has no attribute 'name'"
          ]
        }
      ]
    },
    {
      "cell_type": "code",
      "source": [
        "print(person.age)"
      ],
      "metadata": {
        "id": "Ef15rEkjiNKI"
      },
      "execution_count": null,
      "outputs": []
    },
    {
      "cell_type": "markdown",
      "source": [
        "Applicationn 1-Write a Python Program that computes the product of the area of a square, and name its class as Square, side as attributes"
      ],
      "metadata": {
        "id": "_iVoecKKiTdm"
      }
    },
    {
      "cell_type": "code",
      "source": [
        "class Square:\n",
        "  def __init__(self, sides):\n",
        "      self.sides=sides\n",
        "\n",
        "  def area(self):\n",
        "    return (self.sides*self.sides)    #formula to compute the area of the square\n",
        "\n",
        "  def display(self):\n",
        "    print(\"The area of the square is: \", self.area())\n",
        "\n",
        "square= Square(4)\n",
        "\n",
        "\n",
        "print(\"Side of square= \",square.sides)\n",
        "square.display()\n"
      ],
      "metadata": {
        "id": "glzlHtYRiUZG"
      },
      "execution_count": null,
      "outputs": []
    },
    {
      "cell_type": "markdown",
      "source": [
        "Application 2- Write a Python Program that displays your full name, age, course, school. Create a class named MyClass, and name, age, school as attributes\n",
        "\n"
      ],
      "metadata": {
        "id": "E2wVwrglib56"
      }
    },
    {
      "cell_type": "markdown",
      "source": [
        "Create Object"
      ],
      "metadata": {
        "id": "Y0Rx1QXoihOT"
      }
    },
    {
      "cell_type": "code",
      "source": [
        "class Myclass:\n",
        "  def __init__(self, name, age, course, school):      #__init_parameters\n",
        "    self.name= name                                       #attributes\n",
        "    self.age=age\n",
        "    self.course= course\n",
        "    self.school= school\n",
        "\n",
        "  def identity(self):\n",
        "    print(self.name,self.age, self.course, self.school)\n",
        "  \n",
        "Person= Myclass(\"Sarah O. Rebulado\", \"19\", \"Bachelor Of Science in Computer Engineering\", \"Cavite State University-Main Campus\")    #Createobjects\n",
        "\n",
        "print(\"My Name is \",Person.name)\n",
        "print(\"Age: \",Person.age)\n",
        "print(\"Course: \",Person.course)\n",
        "print(\"School: \",Person.school)"
      ],
      "metadata": {
        "colab": {
          "base_uri": "https://localhost:8080/"
        },
        "id": "lUMnsUSzic9s",
        "outputId": "f624bef1-41eb-46e3-d21c-0e7432290f18"
      },
      "execution_count": 8,
      "outputs": [
        {
          "output_type": "stream",
          "name": "stdout",
          "text": [
            "My Name is  Sarah O. Rebulado\n",
            "Age:  19\n",
            "Course:  Bachelor Of Science in Computer Engineering\n",
            "School:  Cavite State University-Main Campus\n"
          ]
        }
      ]
    },
    {
      "cell_type": "markdown",
      "source": [
        "Modify the Object Name"
      ],
      "metadata": {
        "id": "KY6ak5ooinF-"
      }
    },
    {
      "cell_type": "code",
      "source": [
        "Person.name=\"Sarah Oaña Rebulado\"\n",
        "Person.age=\"19 Years Old\"\n",
        "print(\"My Name is \", Person.name)\n",
        "print(\"Age: \", Person.age)"
      ],
      "metadata": {
        "colab": {
          "base_uri": "https://localhost:8080/"
        },
        "id": "Vc4cnBLWin8L",
        "outputId": "f8a4b009-2383-4d48-f185-bdf36688c6b7"
      },
      "execution_count": 9,
      "outputs": [
        {
          "output_type": "stream",
          "name": "stdout",
          "text": [
            "My Name is  Sarah Oaña Rebulado\n",
            "Age:  19 Years Old\n"
          ]
        }
      ]
    },
    {
      "cell_type": "markdown",
      "source": [
        "Delete the Object"
      ],
      "metadata": {
        "id": "vhpg78BsisY8"
      }
    },
    {
      "cell_type": "code",
      "source": [
        "del Person.age"
      ],
      "metadata": {
        "id": "EufXSPE9iqf6"
      },
      "execution_count": 10,
      "outputs": []
    },
    {
      "cell_type": "code",
      "source": [
        "print(\"My Name is \",Person.name)\n",
        "print(\"Age: \",Person.age)\n",
        "print(\"Course: \",Person.course)\n",
        "print(\"School: \",Person.school)"
      ],
      "metadata": {
        "colab": {
          "base_uri": "https://localhost:8080/",
          "height": 235
        },
        "id": "aY5_MHXLjAt6",
        "outputId": "41d0b878-c3bc-4385-c4c1-75d2e099195c"
      },
      "execution_count": 11,
      "outputs": [
        {
          "output_type": "stream",
          "name": "stdout",
          "text": [
            "My Name is  Sarah Oaña Rebulado\n"
          ]
        },
        {
          "output_type": "error",
          "ename": "AttributeError",
          "evalue": "ignored",
          "traceback": [
            "\u001b[0;31m---------------------------------------------------------------------------\u001b[0m",
            "\u001b[0;31mAttributeError\u001b[0m                            Traceback (most recent call last)",
            "\u001b[0;32m<ipython-input-11-990855ae17df>\u001b[0m in \u001b[0;36m<module>\u001b[0;34m()\u001b[0m\n\u001b[1;32m      1\u001b[0m \u001b[0mprint\u001b[0m\u001b[0;34m(\u001b[0m\u001b[0;34m\"My Name is \"\u001b[0m\u001b[0;34m,\u001b[0m\u001b[0mPerson\u001b[0m\u001b[0;34m.\u001b[0m\u001b[0mname\u001b[0m\u001b[0;34m)\u001b[0m\u001b[0;34m\u001b[0m\u001b[0;34m\u001b[0m\u001b[0m\n\u001b[0;32m----> 2\u001b[0;31m \u001b[0mprint\u001b[0m\u001b[0;34m(\u001b[0m\u001b[0;34m\"Age: \"\u001b[0m\u001b[0;34m,\u001b[0m\u001b[0mPerson\u001b[0m\u001b[0;34m.\u001b[0m\u001b[0mage\u001b[0m\u001b[0;34m)\u001b[0m\u001b[0;34m\u001b[0m\u001b[0;34m\u001b[0m\u001b[0m\n\u001b[0m\u001b[1;32m      3\u001b[0m \u001b[0mprint\u001b[0m\u001b[0;34m(\u001b[0m\u001b[0;34m\"Course: \"\u001b[0m\u001b[0;34m,\u001b[0m\u001b[0mPerson\u001b[0m\u001b[0;34m.\u001b[0m\u001b[0mcourse\u001b[0m\u001b[0;34m)\u001b[0m\u001b[0;34m\u001b[0m\u001b[0;34m\u001b[0m\u001b[0m\n\u001b[1;32m      4\u001b[0m \u001b[0mprint\u001b[0m\u001b[0;34m(\u001b[0m\u001b[0;34m\"School: \"\u001b[0m\u001b[0;34m,\u001b[0m\u001b[0mPerson\u001b[0m\u001b[0;34m.\u001b[0m\u001b[0mschool\u001b[0m\u001b[0;34m)\u001b[0m\u001b[0;34m\u001b[0m\u001b[0;34m\u001b[0m\u001b[0m\n",
            "\u001b[0;31mAttributeError\u001b[0m: 'Myclass' object has no attribute 'age'"
          ]
        }
      ]
    }
  ]
}