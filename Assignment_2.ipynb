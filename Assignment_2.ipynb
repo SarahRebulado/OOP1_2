{
  "nbformat": 4,
  "nbformat_minor": 0,
  "metadata": {
    "colab": {
      "name": "Assignment 2.ipynb",
      "provenance": [],
      "authorship_tag": "ABX9TyMX/QLu/GD8NxGBYyDLK+IN",
      "include_colab_link": true
    },
    "kernelspec": {
      "name": "python3",
      "display_name": "Python 3"
    },
    "language_info": {
      "name": "python"
    }
  },
  "cells": [
    {
      "cell_type": "markdown",
      "metadata": {
        "id": "view-in-github",
        "colab_type": "text"
      },
      "source": [
        "<a href=\"https://colab.research.google.com/github/SarahRebulado/OOP1_2/blob/main/Assignment_2.ipynb\" target=\"_parent\"><img src=\"https://colab.research.google.com/assets/colab-badge.svg\" alt=\"Open In Colab\"/></a>"
      ]
    },
    {
      "cell_type": "markdown",
      "source": [
        "1. Define an Area() method of the class that calculates the circle’s area."
      ],
      "metadata": {
        "id": "LwfQvO_itapt"
      }
    },
    {
      "cell_type": "code",
      "execution_count": 2,
      "metadata": {
        "colab": {
          "base_uri": "https://localhost:8080/"
        },
        "id": "T2CXNix3obZT",
        "outputId": "c4db42a4-b094-4ad7-9918-890e6cf20518"
      },
      "outputs": [
        {
          "output_type": "stream",
          "name": "stdout",
          "text": [
            "Input radius (units): 20\n",
            "Area of the Circle(units squared):  1256.64\n"
          ]
        }
      ],
      "source": [
        "class Area: \n",
        "  def __init__ (self, radius):\n",
        "    self.radius= radius\n",
        "  \n",
        "  def area(self):\n",
        "    import math\n",
        "    result= float(math.pi*(self.radius*self.radius))\n",
        "    return result\n",
        "\n",
        "input_areaC= float(input(\"Input radius (units): \"))\n",
        "area1= Area(input_areaC)\n",
        "circle= area1.area()\n",
        "format_float= \"{:.2f}\".format(circle)\n",
        "print(\"Area of the Circle(units squared): \",format_float)"
      ]
    },
    {
      "cell_type": "markdown",
      "source": [
        "2. Define a Perimeter() method of the class which allows you to calculate the\n",
        "perimeter of the circle."
      ],
      "metadata": {
        "id": "-WZP6yC0toZD"
      }
    },
    {
      "cell_type": "code",
      "source": [
        "class Perimeter: \n",
        "  def __init__ (self, radius):\n",
        "    self.radius= radius\n",
        "  \n",
        "  def perimeter(self):\n",
        "    import math\n",
        "    result= float(math.pi*(2*self.radius))\n",
        "    return result\n",
        "\n",
        "input_Peri1= float(input(\"Input radius (units): \"))\n",
        "peri= Perimeter(input_Peri1)\n",
        "Circle= peri.perimeter()\n",
        "format_float= \"{:.2f}\".format(Circle)\n",
        "print(\"Perimeter of the Circle (units): \", format_float)"
      ],
      "metadata": {
        "colab": {
          "base_uri": "https://localhost:8080/"
        },
        "id": "FB-uITSOts75",
        "outputId": "1c156a98-7a33-4669-c353-8ba0dca2b79b"
      },
      "execution_count": 3,
      "outputs": [
        {
          "output_type": "stream",
          "name": "stdout",
          "text": [
            "Input radius (units): 20\n",
            "Perimeter of the Circle (units):  125.66\n"
          ]
        }
      ]
    }
  ]
}