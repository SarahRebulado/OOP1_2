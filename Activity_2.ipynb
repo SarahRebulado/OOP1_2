{
  "nbformat": 4,
  "nbformat_minor": 0,
  "metadata": {
    "colab": {
      "name": "Activity 2.ipynb",
      "provenance": [],
      "authorship_tag": "ABX9TyOVkrg3nPxrDF/LY4MTcuaI",
      "include_colab_link": true
    },
    "kernelspec": {
      "name": "python3",
      "display_name": "Python 3"
    },
    "language_info": {
      "name": "python"
    }
  },
  "cells": [
    {
      "cell_type": "markdown",
      "metadata": {
        "id": "view-in-github",
        "colab_type": "text"
      },
      "source": [
        "<a href=\"https://colab.research.google.com/github/SarahRebulado/OOP1_2/blob/main/Activity_2.ipynb\" target=\"_parent\"><img src=\"https://colab.research.google.com/assets/colab-badge.svg\" alt=\"Open In Colab\"/></a>"
      ]
    },
    {
      "cell_type": "code",
      "execution_count": 27,
      "metadata": {
        "colab": {
          "base_uri": "https://localhost:8080/"
        },
        "id": "463pduaBWuma",
        "outputId": "e026a371-fa66-4454-bc6d-747faee49d3d"
      },
      "outputs": [
        {
          "output_type": "stream",
          "name": "stdout",
          "text": [
            "Input temperature in celsius: 30\n",
            "86\n"
          ]
        }
      ],
      "source": [
        "#Write a python program that converts the temperature to Farenheit. Create a class name Temperature.\n",
        "#Create Celsius as attribute name, Temp() as method, and temp1 as object name. F= 1.8xC + 32\n",
        "\n",
        "class Temperature:\n",
        "  def  __init__ (self, Celsius):\n",
        "    self.Celsius= Celsius\n",
        "\n",
        "  def Temp(self):\n",
        "      result= ((1.8*self.Celsius)+32)\n",
        "      return result\n",
        "\n",
        "input_temp= float(input(\"Input temperature in celsius: \"))\n",
        "temp1= Temperature(input_temp)\n",
        "print(round(temp1.Temp()))\n",
        "\n",
        "   \n",
        "\n",
        "\n",
        "\n",
        "\n",
        "\n"
      ]
    }
  ]
}