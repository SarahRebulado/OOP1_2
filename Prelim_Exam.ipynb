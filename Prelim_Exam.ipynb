{
  "nbformat": 4,
  "nbformat_minor": 0,
  "metadata": {
    "colab": {
      "name": "Prelim Exam.ipynb",
      "provenance": [],
      "authorship_tag": "ABX9TyOmm5iW3mjRWwyVB1pPeUDV",
      "include_colab_link": true
    },
    "kernelspec": {
      "name": "python3",
      "display_name": "Python 3"
    },
    "language_info": {
      "name": "python"
    }
  },
  "cells": [
    {
      "cell_type": "markdown",
      "metadata": {
        "id": "view-in-github",
        "colab_type": "text"
      },
      "source": [
        "<a href=\"https://colab.research.google.com/github/SarahRebulado/OOP1_2/blob/main/Prelim_Exam.ipynb\" target=\"_parent\"><img src=\"https://colab.research.google.com/assets/colab-badge.svg\" alt=\"Open In Colab\"/></a>"
      ]
    },
    {
      "cell_type": "code",
      "execution_count": 10,
      "metadata": {
        "colab": {
          "base_uri": "https://localhost:8080/"
        },
        "id": "UrTMvfl9VFla",
        "outputId": "38f66596-04d6-43a1-9454-c60ea2c886c0"
      },
      "outputs": [
        {
          "output_type": "stream",
          "name": "stdout",
          "text": [
            " Name:Sarah O. Rebulado \n",
            " Student Number:202101811 \n",
            " Age:19 \n",
            " School:Cavite State University-Main, Indang \n",
            " Course:Bachelor of Science in Computer Engineering\n",
            "None\n"
          ]
        }
      ],
      "source": [
        "class Student:\n",
        "  def __init__(self, Name, Student_No, Age, School, Course):\n",
        "    self.Name= Name\n",
        "    self.Student_No= Student_No\n",
        "    self.Age= Age\n",
        "    self.School= School\n",
        "    self.Course= Course\n",
        "  \n",
        "  def student_info(self):\n",
        "    print(f\" Name:{self.Name} \\n Student Number:{self.Student_No} \\n Age:{self.Age} \\n School:{self.School} \\n Course:{self.Course}\")\n",
        "\n",
        "Student_info= Student(\"Sarah O. Rebulado\", \"202101811\", \"19\", \"Cavite State University-Main, Indang\", \"Bachelor of Science in Computer Engineering\")\n",
        "print(Student_info.student_info())\n"
      ]
    }
  ]
}