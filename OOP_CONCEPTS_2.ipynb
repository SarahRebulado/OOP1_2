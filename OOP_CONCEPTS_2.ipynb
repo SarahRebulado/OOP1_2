{
  "cells": [
    {
      "cell_type": "markdown",
      "metadata": {
        "id": "view-in-github",
        "colab_type": "text"
      },
      "source": [
        "<a href=\"https://colab.research.google.com/github/SarahRebulado/OOP1_2/blob/main/OOP_CONCEPTS_2.ipynb\" target=\"_parent\"><img src=\"https://colab.research.google.com/assets/colab-badge.svg\" alt=\"Open In Colab\"/></a>"
      ]
    },
    {
      "cell_type": "markdown",
      "metadata": {
        "id": "2kKaWebOVITZ"
      },
      "source": [
        "Classes with Multiple Objects"
      ]
    },
    {
      "cell_type": "code",
      "execution_count": null,
      "metadata": {
        "colab": {
          "base_uri": "https://localhost:8080/"
        },
        "id": "v3wkkloXT1WW",
        "outputId": "b15613fa-edf7-42be-d013-fedb052bcfa1"
      },
      "outputs": [
        {
          "name": "stdout",
          "output_type": "stream",
          "text": [
            "Griffon Vultureflies above the sky\n",
            "Common Craneflies above the sky\n",
            "Emuis the national bird of the Philippines\n"
          ]
        }
      ],
      "source": [
        "class Birds:\n",
        "  def __init__(self, bird_name):\n",
        "    self.bird_name= bird_name\n",
        "\n",
        "  def flying_birds(self):\n",
        "    print(f\"{self.bird_name}flies above the sky\")\n",
        "\n",
        "  def non_flying_birds(self):\n",
        "    print(f\"{self.bird_name}is the national bird of the Philippines\")\n",
        "\n",
        "vulture= Birds(\"Griffon Vulture\")\n",
        "crane= Birds(\"Common Crane\")\n",
        "emu= Birds(\"Emu\")\n",
        "\n",
        "vulture.flying_birds()\n",
        "crane.flying_birds()\n",
        "emu.non_flying_birds()"
      ]
    },
    {
      "cell_type": "markdown",
      "metadata": {
        "id": "hTkcWLmtXVEh"
      },
      "source": [
        "Encapsulation using mangling with double underscores"
      ]
    },
    {
      "cell_type": "code",
      "execution_count": null,
      "metadata": {
        "colab": {
          "base_uri": "https://localhost:8080/"
        },
        "id": "GNxa7vSfXUqu",
        "outputId": "377717ff-12b4-4154-f654-e109fadf5eaa"
      },
      "outputs": [
        {
          "data": {
            "text/plain": [
              "7"
            ]
          },
          "execution_count": 11,
          "metadata": {},
          "output_type": "execute_result"
        }
      ],
      "source": [
        "class foo:\n",
        "  def __init__(self, a, b):\n",
        "    self.__a= a\n",
        "    self.__b= b\n",
        "\n",
        "  def add(self):\n",
        "    return self.__a + self.__b    #Private attributes\n",
        "  \n",
        "\n",
        "number= foo(3,4)\n",
        "number.add()\n",
        "\n",
        "number.a= 7\n",
        "number.add()\n"
      ]
    },
    {
      "cell_type": "markdown",
      "metadata": {
        "id": "7jTRaEhNY-rq"
      },
      "source": [
        "Encapsulation with Private Attributes"
      ]
    },
    {
      "cell_type": "code",
      "execution_count": null,
      "metadata": {
        "colab": {
          "base_uri": "https://localhost:8080/"
        },
        "id": "v2O2ZoJWY-_Y",
        "outputId": "de8cbfe2-42c3-4165-dd8c-53ad8ab02316"
      },
      "outputs": [
        {
          "data": {
            "text/plain": [
              "3"
            ]
          },
          "execution_count": 17,
          "metadata": {},
          "output_type": "execute_result"
        }
      ],
      "source": [
        "class Counter:\n",
        "  def __init__(self): \n",
        "    self.__current=0\n",
        "  \n",
        "  def increment(self):\n",
        "    self.__current+=1\n",
        "\n",
        "  def value(self):\n",
        "    return self.__current \n",
        "\n",
        "  def reset(self):\n",
        "    self.__current=0\n",
        "  \n",
        "num=Counter()\n",
        "num.counter= 1\n",
        "num.increment()   #counter=counter+1\n",
        "num.increment()\n",
        "num.increment()\n",
        "\n",
        "num.value()"
      ]
    },
    {
      "cell_type": "markdown",
      "metadata": {
        "id": "qfloJfU1dJ16"
      },
      "source": [
        "Inheritance"
      ]
    },
    {
      "cell_type": "code",
      "execution_count": null,
      "metadata": {
        "colab": {
          "base_uri": "https://localhost:8080/"
        },
        "id": "bD-yttdDchAC",
        "outputId": "e695a7f0-4dc5-48bd-8073-7c3f3ede330c"
      },
      "outputs": [
        {
          "name": "stdout",
          "output_type": "stream",
          "text": [
            "Ana Santos\n",
            "Maria Sayo\n",
            "Jhoriz Aquino\n"
          ]
        }
      ],
      "source": [
        "class Person:\n",
        "  def __init__(self, firstname, surname):\n",
        "    self.firstname= firstname\n",
        "    self.surname= surname\n",
        "\n",
        "  def printname(self):\n",
        "    print(self.firstname,self.surname)\n",
        "\n",
        "person=Person(\"Ana\",\"Santos\")\n",
        "person.printname()\n",
        "\n",
        "class Teacher(Person):\n",
        "  pass\n",
        "\n",
        "person2=Teacher(\"Maria\",\"Sayo\")\n",
        "person2.printname()\n",
        "\n",
        "class Student(Person):\n",
        "  pass\n",
        "\n",
        "person3= Student(\"Jhoriz\", \"Aquino\")\n",
        "person3.printname()"
      ]
    },
    {
      "cell_type": "markdown",
      "metadata": {
        "id": "1izO_HW1fK1-"
      },
      "source": [
        "Polymorphism"
      ]
    },
    {
      "cell_type": "code",
      "execution_count": null,
      "metadata": {
        "colab": {
          "base_uri": "https://localhost:8080/"
        },
        "id": "RzzjPyxkfMfx",
        "outputId": "afebdab6-1106-4aca-806c-2ce34d41e645"
      },
      "outputs": [
        {
          "name": "stdout",
          "output_type": "stream",
          "text": [
            "16\n",
            "3.897\n"
          ]
        }
      ],
      "source": [
        "class RegularPolygon:\n",
        "    def __init__(self,side):\n",
        "        self.side = side\n",
        "class Square(RegularPolygon):\n",
        "    def area(self):\n",
        "        return self.side * self.side\n",
        "class EquilateralTriangle(RegularPolygon):\n",
        "    def area(self):\n",
        "        return self.side * self.side * 0.433\n",
        "\n",
        "object= Square(4)\n",
        "print(object.area())\n",
        "\n",
        "object2=EquilateralTriangle(3)\n",
        "print(object2.area())"
      ]
    },
    {
      "cell_type": "markdown",
      "metadata": {
        "id": "omAKbmzZhknl"
      },
      "source": [
        "Application 1\n",
        "\n",
        "1. Create a Python program that the name of three students (Student 1, Student 2, and Student 3) and their term grades\n",
        "2. Create a class name Person and attributes -std1, std2,, pre, mid, fin\n",
        "3. Compute the average of each term grade using Grade() method \n",
        "4. Information about student's grades must be hidden from others"
      ]
    },
    {
      "cell_type": "code",
      "execution_count": 22,
      "metadata": {
        "colab": {
          "base_uri": "https://localhost:8080/"
        },
        "id": "mLPFMcE73aVS",
        "outputId": "25ced18d-870a-466a-d08f-f2dced2a4949"
      },
      "outputs": [
        {
          "output_type": "stream",
          "name": "stdout",
          "text": [
            "Student1 Grade\n",
            "Name:Anna Smith\n",
            "Enter Prelim Grade: 96\n",
            "Enter Midterm Grade: 95\n",
            "Enter Final Grade: 94\n",
            "\n",
            "Student2 Grade\n",
            "Name: Jona Reyes\n",
            "Enter Prelim Grade: 97\n",
            "Enter Midterm Grade: 93\n",
            "Enter Final Grade: 98\n",
            "\n",
            "Student3 Grade\n",
            "Name: Michele Cruz\n",
            "Enter Prelim Grade: 94\n",
            "Enter Midterm Grade: 93\n",
            "Enter Final Grade: 97\n",
            "\n",
            "View Student's Grade\n",
            "Enter Name: Michele Cruz\n",
            "Average Grade:  94.67\n"
          ]
        }
      ],
      "source": [
        "class Person():\n",
        "  def __init__(self, std, pre, mid, fin):\n",
        "    self.std= std\n",
        "    self.pre= pre\n",
        "    self.mid= mid\n",
        "    self.fin= fin\n",
        "  \n",
        "\n",
        "  def Grade(self):\n",
        "   return round((self.pre + self.mid + self.fin)/3,2)\n",
        "\n",
        "class Anna_Smith(Person):\n",
        "  pass\n",
        "print(\"Student1 Grade\")\n",
        "std1= str(input(\"Name:\"))\n",
        "pre1= float(input(\"Enter Prelim Grade: \"))\n",
        "mid1= float(input(\"Enter Midterm Grade: \"))\n",
        "fin1= float(input(\"Enter Final Grade: \"))\n",
        "Anna_Smith= Person(std1, pre1, mid1, fin1)\n",
        "print()\n",
        "\n",
        "class Jona_Reyes(Person):\n",
        "  pass\n",
        "print(\"Student2 Grade\")\n",
        "std2= str(input(\"Name: \"))\n",
        "pre2= float(input(\"Enter Prelim Grade: \"))\n",
        "mid2= float(input(\"Enter Midterm Grade: \"))\n",
        "fin2= float(input(\"Enter Final Grade: \"))\n",
        "Jona_Reyes= Person(std2, pre2, mid2, fin2)\n",
        "print()\n",
        "\n",
        "class Michele_Cruz(Person):\n",
        "  pass\n",
        "print(\"Student3 Grade\")\n",
        "std3= str(input(\"Name: \"))\n",
        "pre3= float(input(\"Enter Prelim Grade: \"))\n",
        "mid3= float(input(\"Enter Midterm Grade: \"))\n",
        "fin3= float(input(\"Enter Final Grade: \"))\n",
        "Michele_Cruz= Person(std3, pre3, mid3, fin3)\n",
        "print()\n",
        "\n",
        "print(\"View Student's Grade\")\n",
        "Student_Name= str(input(\"Enter Name: \"))\n",
        "if Student_Name==std1:\n",
        "  print(\"Average Grade: \", Anna_Smith.Grade())\n",
        "else: \n",
        "  if Student_Name==std2:\n",
        "    print(\"Average Grade: \", Jona_Reyes.Grade())\n",
        "  else: \n",
        "    if Student_Name==std3:\n",
        "      print(\"Average Grade: \", Michele_Cruz.Grade())\n",
        "    else: \n",
        "      print(\"No student record.\")\n",
        "\n",
        "\n",
        "\n",
        "    "
      ]
    }
  ],
  "metadata": {
    "colab": {
      "name": "OOP_CONCEPTS_2.ipynb",
      "provenance": [],
      "authorship_tag": "ABX9TyPapSt8N1yUQBE/qfsDDaS/",
      "include_colab_link": true
    },
    "kernelspec": {
      "display_name": "Python 3",
      "name": "python3"
    },
    "language_info": {
      "name": "python"
    }
  },
  "nbformat": 4,
  "nbformat_minor": 0
}