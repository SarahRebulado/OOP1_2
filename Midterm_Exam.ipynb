{
  "nbformat": 4,
  "nbformat_minor": 0,
  "metadata": {
    "colab": {
      "name": "Midterm Exam.ipynb",
      "provenance": [],
      "authorship_tag": "ABX9TyN3uJv3JqXvrt0MoZxHNCMW",
      "include_colab_link": true
    },
    "kernelspec": {
      "name": "python3",
      "display_name": "Python 3"
    },
    "language_info": {
      "name": "python"
    }
  },
  "cells": [
    {
      "cell_type": "markdown",
      "metadata": {
        "id": "view-in-github",
        "colab_type": "text"
      },
      "source": [
        "<a href=\"https://colab.research.google.com/github/SarahRebulado/OOP1_2/blob/main/Midterm_Exam.ipynb\" target=\"_parent\"><img src=\"https://colab.research.google.com/assets/colab-badge.svg\" alt=\"Open In Colab\"/></a>"
      ]
    },
    {
      "cell_type": "markdown",
      "source": [
        "Problem 1"
      ],
      "metadata": {
        "id": "BjiXWjig7Jzg"
      }
    },
    {
      "cell_type": "code",
      "execution_count": 6,
      "metadata": {
        "colab": {
          "base_uri": "https://localhost:8080/"
        },
        "id": "g2mXjyKpkjql",
        "outputId": "6aeaacdf-56a7-4154-c282-0303effd6c8f"
      },
      "outputs": [
        {
          "output_type": "stream",
          "name": "stdout",
          "text": [
            "Enter the temperature in Celsius: 12\n",
            "285.15 Kelvin\n",
            "53.6 Fahrenheit\n",
            "\n",
            "Enter Temperature in Farenheit: 12\n",
            "-11.11 Celsius\n",
            "\n",
            "Enter Temperature in Kelvin: 12\n",
            "-261.15 Celsius\n"
          ]
        }
      ],
      "source": [
        "def main():\n",
        " class TemperatureConversion:\n",
        "  def __init__(self, temp=1):\n",
        "   self._temp = temp\n",
        " class CelsiusToFahrenheit(TemperatureConversion):\n",
        "  def conversion(self):\n",
        "   return (self._temp * 9) / 5 + 32\n",
        " class CelsiusToKelvin(TemperatureConversion):\n",
        "  def conversion(self):\n",
        "   return self._temp + 273.15\n",
        " tempInCelsius = float(input(\"Enter the temperature in Celsius: \"))\n",
        " convert = CelsiusToKelvin(tempInCelsius)\n",
        " print(str(convert.conversion()) + \" Kelvin\")\n",
        " convert = CelsiusToFahrenheit(tempInCelsius)\n",
        " print(str(convert.conversion()) + \" Fahrenheit\")\n",
        " print()\n",
        "\n",
        " class FarenheitToCelsius(TemperatureConversion):\n",
        "   def conversion(self):\n",
        "     return(self._temp - 32)/1.8\n",
        " class KelvinToCelsius(TemperatureConversion):\n",
        "   def conversion(self):\n",
        "     return(self._temp - 273.15)\n",
        " tempInFarenheit= float(input(\"Enter Temperature in Farenheit: \"))\n",
        " convert= FarenheitToCelsius(tempInFarenheit)\n",
        " print(str(round(convert.conversion(), 2))+ \" Celsius\")\n",
        " print()\n",
        " tempInKelvin=float(input(\"Enter Temperature in Kelvin: \"))\n",
        " convert= KelvinToCelsius(tempInKelvin)\n",
        " print(str(round(convert.conversion(), 2))+ \" Celsius\")\n",
        "main()\n",
        "\n",
        "\n",
        "\n",
        "\n",
        "\n"
      ]
    }
  ]
}